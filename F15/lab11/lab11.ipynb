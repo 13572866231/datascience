{
 "metadata": {
  "name": "",
  "signature": "sha256:e858fe7c35ed173e1fbcf9b82f9ca6127858105175f45fe928ee97398fc6ebe2"
 },
 "nbformat": 3,
 "nbformat_minor": 0,
 "worksheets": [
  {
   "cells": [
    {
     "cell_type": "heading",
     "level": 1,
     "metadata": {},
     "source": [
      "Visualization using Bokeh and MPLD3"
     ]
    },
    {
     "cell_type": "markdown",
     "metadata": {},
     "source": [
      "In this lab, you are going to use [Bokeh][Bokeh] and [MPLD3][MPLD3] to make some interactive visualizations. MPLD3 is a Matplotlib-like API built on top of [D3.js][d3]. Bokeh is a self-contained tool that uses SVG and Javascript to provide interactivity in a browser. If you want to understand their magic and create some highly customized visualization, we encourage you to learn some D3 using this free [ebook][ebook]. \n",
      "\n",
      "[Bokeh]: http://bokeh.pydata.org/\n",
      "[MPLD3]: http://mpld3.github.io/\n",
      "[d3]: http://d3js.org/\n",
      "[ebook]: http://chimera.labs.oreilly.com/books/1230000000345/"
     ]
    },
    {
     "cell_type": "heading",
     "level": 2,
     "metadata": {},
     "source": [
      "Bokeh Overview\n"
     ]
    },
    {
     "cell_type": "markdown",
     "metadata": {},
     "source": [
      "Bokeh is a Python interactive visualization library that targets modern web browsers for presentation. It can render SVG into a HTML Browser by calling the python API. It also supports ipython notebook so we can easily plot nice graphics in our notebook pages. \n",
      "\n",
      "In order to use it, you first need to install its python package: \n",
      "<pre>\n",
      "sudo pip install bokeh\n",
      "</pre>\n",
      "\n",
      "After that, we can import the bokeh library and enable the notebook support. You should be able to see \"BokehJS successfully loaded.\" after you run the following code.\n",
      "\n",
      "[D3]:http://d3js.org/"
     ]
    },
    {
     "cell_type": "code",
     "collapsed": false,
     "input": [
      "from bokeh.plotting import *\n",
      "output_notebook()"
     ],
     "language": "python",
     "metadata": {},
     "outputs": []
    },
    {
     "cell_type": "heading",
     "level": 2,
     "metadata": {},
     "source": [
      "Multidimensional data visualization"
     ]
    },
    {
     "cell_type": "markdown",
     "metadata": {},
     "source": [
      "Then we can begin to play with some data. We first load some sample data about the performance of some cars. The data is actually a Panda dataframe and we can use .head() to see what is inside."
     ]
    },
    {
     "cell_type": "code",
     "collapsed": false,
     "input": [
      "from bokeh.sampledata.autompg import autompg\n",
      "autompg.head(10)"
     ],
     "language": "python",
     "metadata": {},
     "outputs": []
    },
    {
     "cell_type": "markdown",
     "metadata": {},
     "source": [
      "We then continue to transform the data into some format that could be used by Bokeh. The ColumnDataSource() will return an object similar to dict. You can use the help() to see what's inside."
     ]
    },
    {
     "cell_type": "code",
     "collapsed": false,
     "input": [
      "source = ColumnDataSource(autompg.to_dict(\"list\"))\n",
      "#help(source)\n",
      "#help(source.data)"
     ],
     "language": "python",
     "metadata": {},
     "outputs": []
    },
    {
     "cell_type": "markdown",
     "metadata": {},
     "source": [
      "Use the data, we can create some visualizations. First we need to configure the plot. We need to set the hight/width of our plot, and set the tools we would like to provide within the visualization. "
     ]
    },
    {
     "cell_type": "code",
     "collapsed": false,
     "input": [
      "plot = figure(plot_width=400, plot_height=400, title=\"MPG by Year\",  tools=\"pan,wheel_zoom,box_zoom,box_select,reset\")"
     ],
     "language": "python",
     "metadata": {},
     "outputs": []
    },
    {
     "cell_type": "markdown",
     "metadata": {},
     "source": [
      "With the data and the configuration, we can make a scatterplot using the circle() command. Here we need to provide two columns of the data to make the 2-D scatterplot. Since the data is already formatted, we only need to use the column name as the indicator. \n",
      "\n",
      "Also, we can use an extra column to encode the size of each circle. Here we use the \"cyl\" column. Therefore, for each circle in the graphics, its x,y location will be determined by \"yr\" and \"mpg\", while its size is determined by \"cyl\". The color will always be blue."
     ]
    },
    {
     "cell_type": "code",
     "collapsed": false,
     "input": [
      "plot.circle(\"yr\", \"mpg\", size=\"cyl\",color=\"blue\", source=source),\n",
      "show(plot)"
     ],
     "language": "python",
     "metadata": {},
     "outputs": []
    },
    {
     "cell_type": "markdown",
     "metadata": {},
     "source": [
      "We have already created a nice scatterplot, but a single plot is not fun for such multidimensional data. Here we can create a multi-scatterplot and interactively explore their relationship."
     ]
    },
    {
     "cell_type": "code",
     "collapsed": false,
     "input": [
      "fig1 = figure(plot_width=300, plot_height=300, title=\"MPG by Year\", tools=\"pan,wheel_zoom,box_zoom,box_select,reset\")\n",
      "fig1.circle(\"yr\", \"mpg\", color=\"blue\", source=source)\n",
      "fig2 = figure(plot_width=300, plot_height=300, title=\"HP vs. Displacement\", tools=\"pan,wheel_zoom,box_zoom,box_select,reset\")\n",
      "fig2.circle(\"hp\", \"displ\", color=\"green\", source=source)\n",
      "fig3 = figure(plot_width=300, plot_height=300, title=\"MPG vs. Displacement\", tools=\"pan,wheel_zoom,box_zoom,box_select,reset\")\n",
      "fig3.circle(\"mpg\", \"displ\", size=\"cyl\", line_color=\"red\", fill_color=None, source=source)\n",
      "p = gridplot([[fig1, fig2], [None, fig3]])\n",
      "show(p)"
     ],
     "language": "python",
     "metadata": {},
     "outputs": []
    },
    {
     "cell_type": "markdown",
     "metadata": {},
     "source": [
      "> TODO:  Using the selection tool to explore the data. For example, what's the distribution of MPG when you select different clusters of data in the \"HP vs Displacement\" figure?"
     ]
    },
    {
     "cell_type": "markdown",
     "metadata": {},
     "source": [
      "Here you can make your own plots using other dimensions of the dataset.  "
     ]
    },
    {
     "cell_type": "code",
     "collapsed": false,
     "input": [
      "fig4 = figure(plot_width=300, plot_height=300, tools=\"pan,wheel_zoom,box_zoom,box_select,reset\")\n",
      "fig5 = figure(plot_width=300, plot_height=300, tools=\"pan,wheel_zoom,box_zoom,box_select,reset\")\n",
      "fig6 = figure(plot_width=300, plot_height=300, tools=\"pan,wheel_zoom,box_zoom,box_select,reset\")\n",
      "fig7 = figure(plot_width=300, plot_height=300, tools=\"pan,wheel_zoom,box_zoom,box_select,reset\")\n",
      "# include some other plots here"
     ],
     "language": "python",
     "metadata": {},
     "outputs": []
    },
    {
     "cell_type": "markdown",
     "metadata": {},
     "source": [
      "> TODO: Try to make more plots to explore the dataset using different data columns, briefly describe your findings. For example, Which columns may have high correlation? "
     ]
    },
    {
     "cell_type": "heading",
     "level": 2,
     "metadata": {},
     "source": [
      "Geodata visualization"
     ]
    },
    {
     "cell_type": "markdown",
     "metadata": {},
     "source": [
      "Next we'll explore a geographic dataset. You'll need to download the sample dataset first."
     ]
    },
    {
     "cell_type": "code",
     "collapsed": false,
     "input": [
      "from bokeh.sampledata import download\n",
      "download()"
     ],
     "language": "python",
     "metadata": {},
     "outputs": []
    },
    {
     "cell_type": "markdown",
     "metadata": {},
     "source": [
      "Then we import two datasets. The us_counties dataset will have the geo-location of the boundary for each county in the US. (Each boundary is represented as a polygon, using longitude and latitude as the coordinates) And the unemployment dataset has the unemployment rate for each county. The two datasets have the same key for each county. "
     ]
    },
    {
     "cell_type": "code",
     "collapsed": false,
     "input": [
      "from bokeh.sampledata import us_counties, unemployment\n",
      "print(us_counties.data.items()[0])\n",
      "print(unemployment.data.items()[0])"
     ],
     "language": "python",
     "metadata": {},
     "outputs": []
    },
    {
     "cell_type": "markdown",
     "metadata": {},
     "source": [
      "Using the data, we would like to explore what are the unemployment rates in California. We start by extracting the bounday data  for countries inside CA. Then we extract the unemployment rate using the county_id, and scale it into an integer which can be mapped into a color."
     ]
    },
    {
     "cell_type": "code",
     "collapsed": false,
     "input": [
      "from collections import OrderedDict\n",
      "\n",
      "county_xs=[\n",
      "    us_counties.data[county_id]['lons'] for county_id in us_counties.data\n",
      "    if us_counties.data[county_id]['state'] == 'ca'\n",
      "]\n",
      "county_ys=[\n",
      "    us_counties.data[county_id]['lats'] for county_id in us_counties.data\n",
      "    if us_counties.data[county_id]['state'] == 'ca'\n",
      "]\n",
      "\n",
      "# D3 category10 colors\n",
      "colors =[\"#1f77b4\",\"#ff7f0e\",\"#2ca02c\",\"#d62728\",\"#9467bd\",\"#8c564b\",\"#e377c2\",\"#7f7f7f\",\"#bcbd22\"]\n",
      "\n",
      "# light-to-dark encoding (try it)\n",
      "# colors = [\"#f7fcfd\",\"#e5f5f9\",\"#ccece6\",\"#99d8c9\",\"#66c2a4\",\"#41ae76\",\"#238b45\",\"#006d2c\",\"#00441b\"]\n",
      "\n",
      "\n",
      "rates=[]\n",
      "names = []\n",
      "for county_id in us_counties.data:\n",
      "    if us_counties.data[county_id]['state'] != 'ca':\n",
      "        continue\n",
      "    try:\n",
      "        rate = unemployment.data[county_id]\n",
      "        rates.append(rate)\n",
      "        names.append(us_counties.data[county_id]['name'])\n",
      "    except KeyError:\n",
      "        rates.append(0)\n",
      "min_rate=min(rates)\n",
      "max_rate=max(rates)        \n",
      "idx = map(lambda rate:min(int(rate-min_rate), 8),rates)\n",
      "county_colors = map(lambda id: colors[id],idx)\n",
      "alldata=ColumnDataSource({\"name\":names,\"rate\":rates})\n"
     ],
     "language": "python",
     "metadata": {},
     "outputs": []
    },
    {
     "cell_type": "markdown",
     "metadata": {},
     "source": [
      "Then we can use the patches() command to plot a map. The patches() function is drawing polygons and it will take two data_arrays x and y to indicate location of the vertices. The fill_color options will give each polygon a color. We also need to pass some other data (including the name, unemployment rate for each country) using the \"source\" option. \n",
      "\n",
      "You can use the output_file() and save() command to save the figure into a local HTML file. (It works for other kind of plots as well) \n"
     ]
    },
    {
     "cell_type": "code",
     "collapsed": false,
     "input": [
      "fig8 = figure(plot_width=500, plot_height=500, title=\"California Unemployment 2009\")\n",
      "\n",
      "fig8.patches(county_xs, county_ys, fill_color=county_colors, fill_alpha=0.7,\n",
      "        line_color=\"white\", line_width=0.5, source=alldata)\n",
      "\n",
      "\n",
      "#output_file(\"california.html\")\n",
      "#save()\n",
      "show(fig8)"
     ],
     "language": "python",
     "metadata": {},
     "outputs": []
    },
    {
     "cell_type": "markdown",
     "metadata": {},
     "source": [
      "Here we used the [D3 category10][D3_10] color to encode the unemployment level, which is good for category data but is not as good for numerical data. Try the color gradient suggested in the code above. You should goto websites like [Colorbrew2][colorbrew2] to pickup some nice color gradients and use them to encode the data.\n",
      "\n",
      "[D3_10]: https://github.com/mbostock/d3/wiki/Ordinal-Scales#category10\n",
      "[colorbrew2]: http://colorbrewer2.org/\n"
     ]
    },
    {
     "cell_type": "markdown",
     "metadata": {},
     "source": [
      "> TODO: Pickup some nice color and change the code above to plot some meaningful figure. Did you see any patterns there?"
     ]
    },
    {
     "cell_type": "heading",
     "level": 2,
     "metadata": {},
     "source": [
      "Overview of MPLD3"
     ]
    },
    {
     "cell_type": "markdown",
     "metadata": {},
     "source": [
      "[MPLD3][mpld3] is a python library to bring [mplotlib][mplotlib] into the browser. Its python backend will render a regular mplotlib fig into a JSON format, and use a D3 based Javascript frontend to render it into SVG. It also makes the original static mplotlib figures more interactive.\n",
      "\n",
      "In order to use it, we first need to install the python package using:\n",
      "<pre>\n",
      "sudo pip install mpld3\n",
      "</pre>\n",
      "\n",
      "Then we can start to use it in the python notebook. If we want to plot figures inside the notebook, remember to use the inline option and call the enable_notebook() function.\n",
      "\n",
      "[mpld3]: http://mpld3.github.io\n",
      "[mplotlib]: http://matplotlib.org/"
     ]
    },
    {
     "cell_type": "code",
     "collapsed": false,
     "input": [
      "%matplotlib inline \n",
      "import numpy as np\n",
      "import matplotlib\n",
      "import matplotlib.pyplot as plt\n",
      "\n",
      "import mpld3\n",
      "from mpld3 import plugins, utils\n",
      "mpld3.enable_notebook()"
     ],
     "language": "python",
     "metadata": {},
     "outputs": []
    },
    {
     "cell_type": "markdown",
     "metadata": {},
     "source": [
      "Here we continue to use the MPG dataset from previous section. We can construct a scatterplot using 3 columns: \"mpg\" \"hp\" \"displ\" and use \"yr\" to encode the color. \n",
      "\n",
      "Also, we can use the default LinkedBrush plugin to give us similar selection function as we did with Bokeh."
     ]
    },
    {
     "cell_type": "code",
     "collapsed": false,
     "input": [
      "fig, ax = plt.subplots(3, 3, sharex=\"col\", sharey=\"row\", figsize=(8, 8))\n",
      "fig.subplots_adjust(left=0.05, right=0.95, bottom=0.05, top=0.95,\n",
      "                    hspace=0.1, wspace=0.1)\n",
      "\n",
      "name=[\"mpg\",\"hp\",\"displ\"]\n",
      "data=autompg\n",
      "#data=autompg.head(100)\n",
      "for i in range(3):\n",
      "    for j in range(3):\n",
      "        points = ax[2 - i, j].scatter(data[name[j]], data[name[i]],\n",
      "                                      c=data[\"yr\"],s=40, alpha=0.6)\n",
      "\n",
      "# Here we connect the linked brush plugin\n",
      "plugins.connect(fig, plugins.LinkedBrush(points))\n",
      "\n",
      "mpld3.display(fig)\n"
     ],
     "language": "python",
     "metadata": {},
     "outputs": []
    },
    {
     "cell_type": "heading",
     "level": 2,
     "metadata": {},
     "source": [
      "Scattplot with tooltips"
     ]
    },
    {
     "cell_type": "markdown",
     "metadata": {},
     "source": [
      "By using a D3 based browser rendering engine, our visualization supports interaction with the user. With the help of the PointLabelTooltip plugin, we can create a popup when the user mouses over a data point. Here, the labels will indicate what to show in the popup. For now we only display the data id in the popup.\n",
      "\n",
      "For more information about the [Plugins][plugins] in MPLD3, you can view their documents to see how to create your own plugins.\n",
      "\n",
      "[plugins]: http://mpld3.github.io/notebooks/custom_plugins.html"
     ]
    },
    {
     "cell_type": "code",
     "collapsed": false,
     "input": [
      "fig, ax = plt.subplots(subplot_kw=dict(axisbg='#EEEEEE'))\n",
      "\n",
      "N=len(data)\n",
      "scatter = ax.scatter(data[\"hp\"],\n",
      "                     data[\"mpg\"],\n",
      "                     c=data[\"yr\"],\n",
      "                     s=data[\"cyl\"]*10,\n",
      "                     alpha=0.3,\n",
      "                     cmap=plt.cm.jet)\n",
      "ax.grid(color='white', linestyle='solid')\n",
      "\n",
      "ax.set_title(\"Scatter Plot (with tooltips!)\", size=20)\n",
      "\n",
      "labels = ['point {0}'.format(i + 1) for i in range(N)]\n",
      "#labels = [data[\"name\"][i] for i in range(N)]\n",
      "tooltip = mpld3.plugins.PointLabelTooltip(scatter, labels=labels)\n",
      "mpld3.plugins.connect(fig, tooltip)\n",
      "\n",
      "mpld3.display(fig)\n"
     ],
     "language": "python",
     "metadata": {},
     "outputs": []
    },
    {
     "cell_type": "markdown",
     "metadata": {},
     "source": [
      "> TODO: Showing the data id is not very interesting. We actually have a column with the name for each car. Change the above code to show that information when you mouseover a data point."
     ]
    },
    {
     "cell_type": "heading",
     "level": 2,
     "metadata": {},
     "source": [
      "Exploring the magic behind it"
     ]
    },
    {
     "cell_type": "markdown",
     "metadata": {},
     "source": [
      "When calling the python API, many things happened behind the scenes. The plot routines first write out a JSON format data and use it for further rendering. You can save the JSON format mid-level representation into a local file to see what's inside."
     ]
    },
    {
     "cell_type": "code",
     "collapsed": false,
     "input": [
      "mpld3.save_json(fig,\"viz.json\")\n",
      "mpld3.save_html(fig,\"viz.html\")"
     ],
     "language": "python",
     "metadata": {},
     "outputs": []
    },
    {
     "cell_type": "markdown",
     "metadata": {},
     "source": [
      "And now let's briefly explore what is the magic in the rendering engine D3. D3 is a library which helps you manipulate the [DOM][dom] objects (especually [SVG][svg]) in the HTML pages. In the following code, we will manually create three circles and set their x,y location as well as radius based on the data array [1,2,3] \n",
      "\n",
      "[dom]:http://www.w3.org/DOM/\n",
      "[svg]:http://www.w3schools.com/svg/"
     ]
    },
    {
     "cell_type": "code",
     "collapsed": false,
     "input": [
      "%%html\n",
      "<div id=canvas>\n",
      "</script src=\"d3js.org/d3.v3.min.js\">\n",
      "<script>\n",
      "    var svg=d3.select(\"#canvas\").append(\"svg\").attr(\"width\",400).attr(\"height\",200)\n",
      "    svg.selectAll(\"circle\").data([1,2,3])\n",
      "    .enter().append(\"circle\")\n",
      "    .attr(\"cx\",function(d){return d*100})\n",
      "    .attr(\"cy\",100)\n",
      "    .attr(\"r\",function(d){return d*20})\n",
      "    .attr(\"fill\",\"red\")\n",
      "    \n",
      "</script>"
     ],
     "language": "python",
     "metadata": {},
     "outputs": []
    },
    {
     "cell_type": "markdown",
     "metadata": {},
     "source": [
      "This static SVG is not very exciting, but we can animate it using the powerful transition() function. This will show a linear interpolation between the initial state and the final state."
     ]
    },
    {
     "cell_type": "code",
     "collapsed": false,
     "input": [
      "%%html\n",
      "<script>\n",
      "    d3.selectAll(\"circle\")\n",
      "    .transition().duration(2000)\n",
      "    .attr(\"r\",function(d){return d*10})\n",
      "    .attr(\"cx\",function(d){return 50+50*d})\n",
      "</script>"
     ],
     "language": "python",
     "metadata": {},
     "outputs": []
    },
    {
     "cell_type": "markdown",
     "metadata": {},
     "source": [
      "And finally, we can bind some functions to make it interactive. After running the following code, it will be able change the color when you mouseover/out one circle."
     ]
    },
    {
     "cell_type": "code",
     "collapsed": false,
     "input": [
      "%%html\n",
      "<script>\n",
      "    d3.selectAll(\"circle\")\n",
      "    .on(\"mouseover\",function(d){d3.select(this).attr(\"fill\",\"blue\")})\n",
      "    .on(\"mouseout\",function(d){d3.select(this).attr(\"fill\",\"red\")})\n",
      "</script>"
     ],
     "language": "python",
     "metadata": {},
     "outputs": []
    },
    {
     "cell_type": "markdown",
     "metadata": {},
     "source": [
      "These are only some of D3's animation features. You can learn more using this nice [ebook][ebook] and the [wiki][wiki] on the D3 website. D3 provides a lot of flexibility, but its also a lot of effort and the end result (SVG/javascript hybrid code) is often hard to read. We suggest you use high-level libraries like Bokeh and MPLD3 which have already a very rich set of glyphs and interactions. \n",
      "\n",
      "[ebook]: http://chimera.labs.oreilly.com/books/1230000000345/\n",
      "[wiki]: https://github.com/mbostock/d3/wiki"
     ]
    }
   ],
   "metadata": {}
  }
 ]
}